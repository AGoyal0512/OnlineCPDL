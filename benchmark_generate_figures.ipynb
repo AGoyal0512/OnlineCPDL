{
 "cells": [
  {
   "cell_type": "code",
   "execution_count": 25,
   "metadata": {},
   "outputs": [],
   "source": [
    "from utils.BCD_DR import ALS_DR\n",
    "from utils.ocpdl import Online_CPDL\n",
    "import numpy as np\n",
    "import matplotlib.pyplot as plt\n",
    "import pickle\n",
    "from itertools import cycle\n",
    "from scipy.interpolate import interp1d\n",
    "import os\n",
    "import csv\n",
    "from tqdm import trange\n",
    "from OCPDL_benchmark import main\n",
    "from headlines_preprocessing import generate_tensor"
   ]
  },
  {
   "cell_type": "code",
   "execution_count": 17,
   "metadata": {},
   "outputs": [],
   "source": [
    "path = \"Data/abcnews-date-text.csv\"\n",
    "with open(path, newline='') as csvfile:\n",
    "    spamreader = csv.reader(csvfile, delimiter=' ', quotechar='|')\n",
    "    spamreader = list(spamreader)\n",
    "    #row_count = sum(1 for row in spamreader)\n",
    "    #for i in trange(row_count):\n",
    "    #    print(', '.join(spamreader[i]))"
   ]
  },
  {
   "cell_type": "code",
   "execution_count": 23,
   "metadata": {},
   "outputs": [
    {
     "data": {
      "text/plain": [
       "['20030219,air', 'nz', 'strike', 'to', 'affect', 'australian', 'travellers']"
      ]
     },
     "execution_count": 23,
     "metadata": {},
     "output_type": "execute_result"
    }
   ],
   "source": [
    "spamreader[5]"
   ]
  },
  {
   "cell_type": "code",
   "execution_count": 28,
   "metadata": {},
   "outputs": [
    {
     "name": "stdout",
     "output_type": "stream",
     "text": [
      "!!! headlines_tensor[1].shape (203, 7000, 700)\n",
      "!!! headlines_tensor[0].shape ['10', '100', '1000', '10000', '100000', '100k', '100m', '10m', '11', '12']\n",
      "Shape of the tensor (203, 7000, 700).\n",
      "Dimensions: (time, vocabulary, headlines)\n"
     ]
    }
   ],
   "source": [
    "X = generate_tensor(\"Data/abcnews-date-text.csv\", if_save=False)"
   ]
  },
  {
   "cell_type": "code",
   "execution_count": 30,
   "metadata": {},
   "outputs": [
    {
     "data": {
      "text/plain": [
       "(203, 7000, 700)"
      ]
     },
     "execution_count": 30,
     "metadata": {},
     "output_type": "execute_result"
    }
   ],
   "source": [
    "X[1].shape"
   ]
  },
  {
   "cell_type": "code",
   "execution_count": null,
   "metadata": {},
   "outputs": [],
   "source": []
  }
 ],
 "metadata": {
  "kernelspec": {
   "display_name": "Python 3",
   "language": "python",
   "name": "python3"
  },
  "language_info": {
   "codemirror_mode": {
    "name": "ipython",
    "version": 3
   },
   "file_extension": ".py",
   "mimetype": "text/x-python",
   "name": "python",
   "nbconvert_exporter": "python",
   "pygments_lexer": "ipython3",
   "version": "3.8.5"
  }
 },
 "nbformat": 4,
 "nbformat_minor": 2
}
